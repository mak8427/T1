{
 "metadata": {
  "kernelspec": {
   "language": "python",
   "display_name": "Python 3",
   "name": "python3"
  },
  "language_info": {
   "name": "python",
   "version": "3.7.12",
   "mimetype": "text/x-python",
   "codemirror_mode": {
    "name": "ipython",
    "version": 3
   },
   "pygments_lexer": "ipython3",
   "nbconvert_exporter": "python",
   "file_extension": ".py"
  }
 },
 "nbformat_minor": 4,
 "nbformat": 4,
 "cells": [
  {
   "cell_type": "code",
   "source": [
    "# This Python 3 environment comes with many helpful analytics libraries installed\n",
    "# It is defined by the kaggle/python Docker image: https://github.com/kaggle/docker-python\n",
    "# For example, here's several helpful packages to load\n",
    "\n",
    "import numpy as np # linear algebra\n",
    "import pandas as pd # data processing, CSV file I/O (e.g. pd.read_csv)\n",
    "import matplotlib.pyplot as plt\n",
    "# Input data files are available in the read-only \"../input/\" directory\n",
    "# For example, running this (by clicking run or pressing Shift+Enter) will list all files under the input directory\n",
    "\n",
    "import os\n",
    "for dirname, _, filenames in os.walk('/kaggle/input'):\n",
    "    for filename in filenames:\n",
    "        print(os.path.join(dirname, filename))\n",
    "\n",
    "# You can write up to 20GB to the current directory (/kaggle/working/) that gets preserved as output when you create a version using \"Save & Run All\" \n",
    "# You can also write temporary files to /kaggle/temp/, but they won't be saved outside of the current session"
   ],
   "metadata": {
    "_uuid": "8f2839f25d086af736a60e9eeb907d3b93b6e0e5",
    "_cell_guid": "b1076dfc-b9ad-4769-8c92-a6c4dae69d19",
    "execution": {
     "iopub.status.busy": "2023-02-22T14:09:55.666012Z",
     "iopub.execute_input": "2023-02-22T14:09:55.666402Z",
     "iopub.status.idle": "2023-02-22T14:09:55.680671Z",
     "shell.execute_reply.started": "2023-02-22T14:09:55.666367Z",
     "shell.execute_reply": "2023-02-22T14:09:55.679229Z"
    },
    "trusted": true,
    "ExecuteTime": {
     "start_time": "2023-06-29T20:37:51.160063Z",
     "end_time": "2023-06-29T20:37:52.300166Z"
    }
   },
   "execution_count": 1,
   "outputs": []
  },
  {
   "cell_type": "code",
   "source": [
    "from tensorflow.keras.models import Sequential, Model\n",
    "from tensorflow.keras.layers import Dense,Dropout, Input\n",
    "from tensorflow.keras.optimizers import SGD, Adam\n",
    "from tensorflow.keras.metrics import RootMeanSquaredError\n",
    "from tensorflow.keras.models import load_model\n",
    "from tensorflow_addons.metrics import RSquare \n",
    "from sklearn.preprocessing import StandardScaler, LabelEncoder\n",
    "from sklearn.model_selection import train_test_split\n",
    "from sklearn.metrics import r2_score\n"
   ],
   "metadata": {
    "execution": {
     "iopub.status.busy": "2023-02-22T14:41:57.855589Z",
     "iopub.execute_input": "2023-02-22T14:41:57.855948Z",
     "iopub.status.idle": "2023-02-22T14:41:57.861999Z",
     "shell.execute_reply.started": "2023-02-22T14:41:57.855918Z",
     "shell.execute_reply": "2023-02-22T14:41:57.860880Z"
    },
    "trusted": true
   },
   "execution_count": 2,
   "outputs": [
    {
     "ename": "ModuleNotFoundError",
     "evalue": "No module named 'tensorflow_addons'",
     "output_type": "error",
     "traceback": [
      "\u001B[1;31m---------------------------------------------------------------------------\u001B[0m",
      "\u001B[1;31mModuleNotFoundError\u001B[0m                       Traceback (most recent call last)",
      "Cell \u001B[1;32mIn[2], line 6\u001B[0m\n\u001B[0;32m      4\u001B[0m \u001B[38;5;28;01mfrom\u001B[39;00m \u001B[38;5;21;01mtensorflow\u001B[39;00m\u001B[38;5;21;01m.\u001B[39;00m\u001B[38;5;21;01mkeras\u001B[39;00m\u001B[38;5;21;01m.\u001B[39;00m\u001B[38;5;21;01mmetrics\u001B[39;00m \u001B[38;5;28;01mimport\u001B[39;00m RootMeanSquaredError\n\u001B[0;32m      5\u001B[0m \u001B[38;5;28;01mfrom\u001B[39;00m \u001B[38;5;21;01mtensorflow\u001B[39;00m\u001B[38;5;21;01m.\u001B[39;00m\u001B[38;5;21;01mkeras\u001B[39;00m\u001B[38;5;21;01m.\u001B[39;00m\u001B[38;5;21;01mmodels\u001B[39;00m \u001B[38;5;28;01mimport\u001B[39;00m load_model\n\u001B[1;32m----> 6\u001B[0m \u001B[38;5;28;01mfrom\u001B[39;00m \u001B[38;5;21;01mtensorflow_addons\u001B[39;00m\u001B[38;5;21;01m.\u001B[39;00m\u001B[38;5;21;01mmetrics\u001B[39;00m \u001B[38;5;28;01mimport\u001B[39;00m RSquare \n\u001B[0;32m      7\u001B[0m \u001B[38;5;28;01mfrom\u001B[39;00m \u001B[38;5;21;01msklearn\u001B[39;00m\u001B[38;5;21;01m.\u001B[39;00m\u001B[38;5;21;01mpreprocessing\u001B[39;00m \u001B[38;5;28;01mimport\u001B[39;00m StandardScaler, LabelEncoder\n\u001B[0;32m      8\u001B[0m \u001B[38;5;28;01mfrom\u001B[39;00m \u001B[38;5;21;01msklearn\u001B[39;00m\u001B[38;5;21;01m.\u001B[39;00m\u001B[38;5;21;01mmodel_selection\u001B[39;00m \u001B[38;5;28;01mimport\u001B[39;00m train_test_split\n",
      "\u001B[1;31mModuleNotFoundError\u001B[0m: No module named 'tensorflow_addons'"
     ]
    }
   ]
  },
  {
   "cell_type": "code",
   "source": [
    "column_names = ['CRIM', 'ZN', 'INDUS', 'CHAS', 'NOX', 'RM', 'AGE', 'DIS', 'RAD', 'TAX', 'PTRATIO', 'B', 'LSTAT', 'MEDV']\n",
    "df = pd.read_csv('/kaggle/input/boston-house-prices/housing.csv', header=None, delimiter=r\"\\s+\", names=column_names)\n"
   ],
   "metadata": {
    "execution": {
     "iopub.status.busy": "2023-02-22T14:09:55.693938Z",
     "iopub.execute_input": "2023-02-22T14:09:55.694651Z",
     "iopub.status.idle": "2023-02-22T14:09:55.707496Z",
     "shell.execute_reply.started": "2023-02-22T14:09:55.694608Z",
     "shell.execute_reply": "2023-02-22T14:09:55.706596Z"
    },
    "trusted": true
   },
   "execution_count": null,
   "outputs": []
  },
  {
   "cell_type": "markdown",
   "source": [
    "1) CRIM - per capita crime rate by town \n",
    "\n",
    "2) ZN: proportion of residential land zoned for lots over 25,000 sq.ft.\n",
    "\n",
    "3) INDUS: proportion of non-retail business acres per town\n",
    "\n",
    "4) CHAS: Charles River dummy variable (= 1 if tract bounds river; 0 otherwise)\n",
    "\n",
    "5) NOX: nitric oxides concentration (parts per 10 million)\n",
    "\n",
    "6) RM: average number of rooms per dwelling\n",
    "\n",
    "7) AGE: proportion of owner-occupied units built prior to 1940\n",
    "\n",
    "8) DIS: weighted distances to ﬁve Boston employment centers\n",
    "\n",
    "9) RAD: index of accessibility to radial highways\n",
    "\n",
    "10) TAX: full-value property-tax rate per 10,000 doller\n",
    "\n",
    "11) PTRATIO: pupil-teacher ratio by town\n",
    "\n",
    "12) B: (1000(Bk−0.63)2) where Bk is the proportion of blacks by\n",
    "\n",
    "13) LSTAT: % lower status of the population\n",
    "\n",
    "14) MEDV: Median value of owner-occupied homes in 1000 doller \n"
   ],
   "metadata": {}
  },
  {
   "cell_type": "code",
   "source": [
    "import seaborn as sns\n",
    "corr_matrix = df.corr()\n",
    "sns.heatmap(corr_matrix , cmap=plt.cm.Blues)"
   ],
   "metadata": {
    "execution": {
     "iopub.status.busy": "2023-02-22T14:09:55.709014Z",
     "iopub.execute_input": "2023-02-22T14:09:55.709739Z",
     "iopub.status.idle": "2023-02-22T14:09:56.101375Z",
     "shell.execute_reply.started": "2023-02-22T14:09:55.709705Z",
     "shell.execute_reply": "2023-02-22T14:09:56.100433Z"
    },
    "trusted": true
   },
   "execution_count": null,
   "outputs": []
  },
  {
   "cell_type": "code",
   "source": [
    "plt.figure(figsize=(15,10))\n",
    "sns.heatmap(data=df.corr(), mask=np.triu(df.corr()), annot=True, cmap='RdYlBu_r',\n",
    "           linewidth=1, linecolor='white')\n",
    "plt.show()"
   ],
   "metadata": {
    "execution": {
     "iopub.status.busy": "2023-02-22T14:09:56.104274Z",
     "iopub.execute_input": "2023-02-22T14:09:56.105014Z",
     "iopub.status.idle": "2023-02-22T14:09:56.786573Z",
     "shell.execute_reply.started": "2023-02-22T14:09:56.104973Z",
     "shell.execute_reply": "2023-02-22T14:09:56.785642Z"
    },
    "trusted": true
   },
   "execution_count": null,
   "outputs": []
  },
  {
   "cell_type": "code",
   "source": [
    "X = df.drop(columns=['MEDV']).values\n",
    "y = df.MEDV.values\n",
    "x_scaler = StandardScaler()\n",
    "X = x_scaler.fit_transform(X)\n",
    "y_scaler = StandardScaler()\n",
    "y = y_scaler.fit_transform(y.reshape(-1,1))\n",
    "print(X)\n",
    "\n",
    "X_train,X_test,y_train,y_test = train_test_split(X,y,test_size=0.2)"
   ],
   "metadata": {
    "execution": {
     "iopub.status.busy": "2023-02-22T14:09:56.788326Z",
     "iopub.execute_input": "2023-02-22T14:09:56.790400Z",
     "iopub.status.idle": "2023-02-22T14:09:56.803366Z",
     "shell.execute_reply.started": "2023-02-22T14:09:56.790367Z",
     "shell.execute_reply": "2023-02-22T14:09:56.802246Z"
    },
    "trusted": true
   },
   "execution_count": null,
   "outputs": []
  },
  {
   "cell_type": "code",
   "source": [
    "n_features = X.shape[1]\n",
    "dropout_proba = 0.25\n",
    "batch_size = 64\n",
    "opt = SGD(learning_rate=0.01)\n",
    "epochs = 10000\n"
   ],
   "metadata": {
    "execution": {
     "iopub.status.busy": "2023-02-22T14:43:59.776014Z",
     "iopub.execute_input": "2023-02-22T14:43:59.776366Z",
     "iopub.status.idle": "2023-02-22T14:43:59.782861Z",
     "shell.execute_reply.started": "2023-02-22T14:43:59.776335Z",
     "shell.execute_reply": "2023-02-22T14:43:59.781596Z"
    },
    "trusted": true
   },
   "execution_count": null,
   "outputs": []
  },
  {
   "cell_type": "code",
   "source": [
    "\n",
    "\n",
    "def DNN_model_with_dropout(layers_shape, input_dim, dropout_proba, act='relu'):\n",
    "    inputs = Input(shape=(input_dim,))\n",
    "    hidden = Dense(layers_shape[0], activation=act)(inputs)\n",
    "    for i in range(len(layers_shape)-1):\n",
    "        if dropout_proba > 0:\n",
    "            hidden = Dropout(dropout_proba)(hidden, training=True)\n",
    "        hidden = Dense(layers_shape[i+1], activation=act)(hidden)\n",
    "    if dropout_proba > 0:\n",
    "        hidden = Dropout(dropout_proba)(hidden, training=True)\n",
    "    outputs = Dense(units = 1, kernel_initializer = 'uniform', activation = 'linear')(hidden) \n",
    "    model = Model(inputs, outputs)\n",
    "    return model\n",
    "\n",
    "model = DNN_model_with_dropout([64,32,16],n_features, dropout_proba, act='relu')\n",
    "model.compile(optimizer = opt,loss=\"mse\",metrics=[RootMeanSquaredError()])\n",
    "print(model.summary)\n",
    "history = model.fit(X_train,y_train,batch_size=batch_size,epochs=epochs,verbose=0)"
   ],
   "metadata": {
    "execution": {
     "iopub.status.busy": "2023-02-22T14:44:27.954201Z",
     "iopub.execute_input": "2023-02-22T14:44:27.954584Z",
     "iopub.status.idle": "2023-02-22T14:47:50.344198Z",
     "shell.execute_reply.started": "2023-02-22T14:44:27.954532Z",
     "shell.execute_reply": "2023-02-22T14:47:50.343147Z"
    },
    "trusted": true
   },
   "execution_count": null,
   "outputs": []
  },
  {
   "cell_type": "code",
   "source": [
    "def DNN_uncertainity(model, x_test,T=500):\n",
    "    predictions = []\n",
    "    for _ in range(T):\n",
    "        predictions += [model.predict(x_test,verbose=0)]    \n",
    "        #return predictions\n",
    "    mean, std = np.mean(np.array(predictions), axis=0), np.std(np.array(predictions), axis=0)\n",
    "    return mean,std\n",
    "\n",
    "y_pred, sigma = DNN_uncertainity(model, X_test,T=500)\n",
    "print(\"Model score:\",r2_score(y_test,y_pred))\n",
    "\n"
   ],
   "metadata": {
    "execution": {
     "iopub.status.busy": "2023-02-22T14:47:50.347131Z",
     "iopub.execute_input": "2023-02-22T14:47:50.348201Z",
     "iopub.status.idle": "2023-02-22T14:48:17.330079Z",
     "shell.execute_reply.started": "2023-02-22T14:47:50.348160Z",
     "shell.execute_reply": "2023-02-22T14:48:17.329036Z"
    },
    "trusted": true
   },
   "execution_count": null,
   "outputs": []
  },
  {
   "cell_type": "code",
   "source": [],
   "metadata": {
    "execution": {
     "iopub.status.busy": "2023-02-22T14:56:59.476932Z",
     "iopub.execute_input": "2023-02-22T14:56:59.477309Z",
     "iopub.status.idle": "2023-02-22T14:56:59.486208Z",
     "shell.execute_reply.started": "2023-02-22T14:56:59.477276Z",
     "shell.execute_reply": "2023-02-22T14:56:59.485236Z"
    },
    "trusted": true
   },
   "execution_count": null,
   "outputs": []
  },
  {
   "cell_type": "code",
   "source": [
    "sns.regplot(x=y_test,y=y_pred)\n",
    "plt.errorbar(y_test[:10],\n",
    "             y_pred[:10].reshape(-1,),\n",
    "             yerr=sigma[:10].reshape(-1,),\n",
    "             linestyle='none',fmt='-o')\n",
    "plt.xlabel(\"Actual (scaled)\")\n",
    "plt.ylabel(\"Predicted (scaled)\")\n",
    "plt.show()\n",
    "\n"
   ],
   "metadata": {
    "execution": {
     "iopub.status.busy": "2023-02-22T15:02:27.158016Z",
     "iopub.execute_input": "2023-02-22T15:02:27.158427Z",
     "iopub.status.idle": "2023-02-22T15:02:27.457704Z",
     "shell.execute_reply.started": "2023-02-22T15:02:27.158396Z",
     "shell.execute_reply": "2023-02-22T15:02:27.456796Z"
    },
    "trusted": true
   },
   "execution_count": null,
   "outputs": []
  },
  {
   "cell_type": "markdown",
   "source": [],
   "metadata": {}
  }
 ]
}
